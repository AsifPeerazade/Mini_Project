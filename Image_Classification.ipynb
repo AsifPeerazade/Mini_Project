{
  "nbformat": 4,
  "nbformat_minor": 0,
  "metadata": {
    "colab": {
      "name": "Image Classification.ipynb",
      "provenance": [],
      "collapsed_sections": [],
      "authorship_tag": "ABX9TyNT1O55kfljZGAF2Oprxl+x",
      "include_colab_link": true
    },
    "kernelspec": {
      "name": "python3",
      "display_name": "Python 3"
    },
    "language_info": {
      "name": "python"
    }
  },
  "cells": [
    {
      "cell_type": "markdown",
      "metadata": {
        "id": "view-in-github",
        "colab_type": "text"
      },
      "source": [
        "<a href=\"https://colab.research.google.com/github/AsifPeerazade/Mini_Project/blob/main/Image_Classification.ipynb\" target=\"_parent\"><img src=\"https://colab.research.google.com/assets/colab-badge.svg\" alt=\"Open In Colab\"/></a>"
      ]
    },
    {
      "cell_type": "code",
      "metadata": {
        "colab": {
          "base_uri": "https://localhost:8080/"
        },
        "id": "dy9Qggu66Mhz",
        "outputId": "8ebd85d9-551a-47a9-b832-fdb5ab6a820c"
      },
      "source": [
        "!pip install ipython-autotime\n",
        "%load_ext autotime"
      ],
      "execution_count": null,
      "outputs": [
        {
          "output_type": "stream",
          "text": [
            "Requirement already satisfied: ipython-autotime in /usr/local/lib/python3.7/dist-packages (0.3.1)\n",
            "Requirement already satisfied: ipython in /usr/local/lib/python3.7/dist-packages (from ipython-autotime) (5.5.0)\n",
            "Requirement already satisfied: decorator in /usr/local/lib/python3.7/dist-packages (from ipython->ipython-autotime) (4.4.2)\n",
            "Requirement already satisfied: pickleshare in /usr/local/lib/python3.7/dist-packages (from ipython->ipython-autotime) (0.7.5)\n",
            "Requirement already satisfied: setuptools>=18.5 in /usr/local/lib/python3.7/dist-packages (from ipython->ipython-autotime) (57.0.0)\n",
            "Requirement already satisfied: traitlets>=4.2 in /usr/local/lib/python3.7/dist-packages (from ipython->ipython-autotime) (5.0.5)\n",
            "Requirement already satisfied: pygments in /usr/local/lib/python3.7/dist-packages (from ipython->ipython-autotime) (2.6.1)\n",
            "Requirement already satisfied: simplegeneric>0.8 in /usr/local/lib/python3.7/dist-packages (from ipython->ipython-autotime) (0.8.1)\n",
            "Requirement already satisfied: prompt-toolkit<2.0.0,>=1.0.4 in /usr/local/lib/python3.7/dist-packages (from ipython->ipython-autotime) (1.0.18)\n",
            "Requirement already satisfied: pexpect; sys_platform != \"win32\" in /usr/local/lib/python3.7/dist-packages (from ipython->ipython-autotime) (4.8.0)\n",
            "Requirement already satisfied: ipython-genutils in /usr/local/lib/python3.7/dist-packages (from traitlets>=4.2->ipython->ipython-autotime) (0.2.0)\n",
            "Requirement already satisfied: six>=1.9.0 in /usr/local/lib/python3.7/dist-packages (from prompt-toolkit<2.0.0,>=1.0.4->ipython->ipython-autotime) (1.15.0)\n",
            "Requirement already satisfied: wcwidth in /usr/local/lib/python3.7/dist-packages (from prompt-toolkit<2.0.0,>=1.0.4->ipython->ipython-autotime) (0.2.5)\n",
            "Requirement already satisfied: ptyprocess>=0.5 in /usr/local/lib/python3.7/dist-packages (from pexpect; sys_platform != \"win32\"->ipython->ipython-autotime) (0.7.0)\n",
            "The autotime extension is already loaded. To reload it, use:\n",
            "  %reload_ext autotime\n",
            "time: 3.96 s (started: 2021-06-24 13:45:17 +00:00)\n"
          ],
          "name": "stdout"
        }
      ]
    },
    {
      "cell_type": "code",
      "metadata": {
        "colab": {
          "base_uri": "https://localhost:8080/"
        },
        "id": "S2GnFFSP6Vno",
        "outputId": "5e2cd547-6094-4ef2-c8c8-a62755cd5cb8"
      },
      "source": [
        "!pip install bing-image-downloader"
      ],
      "execution_count": null,
      "outputs": [
        {
          "output_type": "stream",
          "text": [
            "Collecting bing-image-downloader\n",
            "  Downloading https://files.pythonhosted.org/packages/c2/04/1872a689a30036aa0b81ac9fca124a7413cad71fdab714f727cf1a34b671/bing_image_downloader-1.1.1-py3-none-any.whl\n",
            "Installing collected packages: bing-image-downloader\n",
            "Successfully installed bing-image-downloader-1.1.1\n",
            "time: 3.24 s (started: 2021-06-24 12:06:24 +00:00)\n"
          ],
          "name": "stdout"
        }
      ]
    },
    {
      "cell_type": "code",
      "metadata": {
        "colab": {
          "base_uri": "https://localhost:8080/"
        },
        "id": "Dbf66Ieo6gEP",
        "outputId": "d568f07a-e139-465e-8079-36fbff53e4ad"
      },
      "source": [
        "!mkdir images"
      ],
      "execution_count": null,
      "outputs": [
        {
          "output_type": "stream",
          "text": [
            "time: 113 ms (started: 2021-06-24 12:06:47 +00:00)\n"
          ],
          "name": "stdout"
        }
      ]
    },
    {
      "cell_type": "code",
      "metadata": {
        "colab": {
          "base_uri": "https://localhost:8080/"
        },
        "id": "ok6x5Gy66loM",
        "outputId": "f0f9bd1c-7111-4364-cab9-2eac5fe5d210"
      },
      "source": [
        "from bing_image_downloader import downloader\n",
        "downloader.download(\"aeroplane\" , limit=30,output_dir='images',adult_filter_off=True)"
      ],
      "execution_count": null,
      "outputs": [
        {
          "output_type": "stream",
          "text": [
            "[%] Downloading Images to /content/images/aeroplane\n",
            "\n",
            "\n",
            "[!!]Indexing page: 1\n",
            "\n",
            "[%] Indexed 30 Images on Page 1.\n",
            "\n",
            "===============================================\n",
            "\n",
            "[%] Downloading Image #1 from https://www.rd.com/wp-content/uploads/2020/01/GettyImages-1131335393-e1580493890249-scaled.jpg\n",
            "[%] File Downloaded !\n",
            "\n",
            "[%] Downloading Image #2 from https://1.bp.blogspot.com/-BXKO1VyjlWk/UA5yfCdFsII/AAAAAAAAH4E/K5M0ePZgOV0/s1600/Airplane_aeroplane_aircraft_jet_wallpapers+(30).jpg\n",
            "[%] File Downloaded !\n",
            "\n",
            "[%] Downloading Image #3 from https://1.bp.blogspot.com/-0RJR9qpu2D8/UA50waJTocI/AAAAAAAAH6I/WbDWYn4TD3A/s1600/Airplane_aeroplane_aircraft_jet_wallpapers+(40).jpg\n",
            "[%] File Downloaded !\n",
            "\n",
            "[%] Downloading Image #4 from https://4.bp.blogspot.com/-_ur8aZKwrOs/UA5zZ1CaCcI/AAAAAAAAH48/H8sUx3YF5MY/s1600/Airplane_aeroplane_aircraft_jet_wallpapers+(66).jpg\n",
            "[%] File Downloaded !\n",
            "\n",
            "[%] Downloading Image #5 from https://1.bp.blogspot.com/-iWZuTbn7f5E/UA5zW7ra8iI/AAAAAAAAH4s/AYDd7Euys8I/s1600/Airplane_aeroplane_aircraft_jet_wallpapers+(54).jpg\n",
            "[%] File Downloaded !\n",
            "\n",
            "[%] Downloading Image #6 from https://2.bp.blogspot.com/-eNVME6R_lO0/UA50Qa2aW8I/AAAAAAAAH50/zPoicE91bmg/s1600/Airplane_aeroplane_aircraft_jet_wallpapers+(7).jpg\n",
            "[%] File Downloaded !\n",
            "\n",
            "[%] Downloading Image #7 from https://2.bp.blogspot.com/-MPD8kiJtYM8/UA50RNDYFpI/AAAAAAAAH58/pJkIbM_SF5s/s1600/Airplane_aeroplane_aircraft_jet_wallpapers+(55).jpg\n",
            "[%] File Downloaded !\n",
            "\n",
            "[%] Downloading Image #8 from http://2.bp.blogspot.com/-BzAaQQ8W8_8/UA5wp1xq_iI/AAAAAAAAH18/InfaJMRC73E/s1600/Airplane_aeroplane_aircraft_jet_wallpapers+(37).jpg\n",
            "[%] File Downloaded !\n",
            "\n",
            "[%] Downloading Image #9 from https://2.bp.blogspot.com/-M944fBGt5Ks/UA52qskPphI/AAAAAAAAH7k/89qyLUz2gag/s1600/Airplane_aeroplane_aircraft_jet_wallpapers+(69).jpg\n",
            "[%] File Downloaded !\n",
            "\n",
            "[%] Downloading Image #10 from https://2.bp.blogspot.com/-DP-mRPsfVHA/UA5zq0FZNTI/AAAAAAAAH5M/nl6fieQf-ec/s1600/Airplane_aeroplane_aircraft_jet_wallpapers+(16).jpg\n",
            "[%] File Downloaded !\n",
            "\n",
            "[%] Downloading Image #11 from http://4.bp.blogspot.com/-W4UViXAOY8Y/UA5vO-fy21I/AAAAAAAAHyc/piEHJqtLs7w/w1200-h630-p-k-no-nu/Airplane_aeroplane_aircraft_jet_wallpapers+(1).jpeg\n",
            "[%] File Downloaded !\n",
            "\n",
            "[%] Downloading Image #12 from https://3.bp.blogspot.com/-eqvN1irwvSI/UA5zJ1cbn0I/AAAAAAAAH4k/6zWlX1oYUHM/s1600/Airplane_aeroplane_aircraft_jet_wallpapers+(34).jpg\n",
            "[%] File Downloaded !\n",
            "\n",
            "[%] Downloading Image #13 from http://1.bp.blogspot.com/-zINbWRtiyeQ/UA52kYlSsNI/AAAAAAAAH7U/-d-JMIU7bUQ/s1600/Airplane_aeroplane_aircraft_jet_wallpapers+(68).jpg\n",
            "[%] File Downloaded !\n",
            "\n",
            "[%] Downloading Image #14 from https://2.bp.blogspot.com/-_exRlsKI9k0/UA52y4fwemI/AAAAAAAAH70/49NIDrE2DvQ/s1600/Airplane_aeroplane_aircraft_jet_wallpapers+(76).jpg\n",
            "[%] File Downloaded !\n",
            "\n",
            "[%] Downloading Image #15 from http://3.bp.blogspot.com/-FF8Ph4LNqAk/UA52r_kZXTI/AAAAAAAAH7s/b62RMOVZnXg/s1600/Airplane_aeroplane_aircraft_jet_wallpapers+(72).jpg\n",
            "[%] File Downloaded !\n",
            "\n",
            "[%] Downloading Image #16 from http://3.bp.blogspot.com/-Fqoc5nFuIto/UA5wkyeStBI/AAAAAAAAH1Q/NPaqwjD6BLo/s1600/Airplane_aeroplane_aircraft_jet_wallpapers+(64).jpg\n",
            "[%] File Downloaded !\n",
            "\n",
            "[%] Downloading Image #17 from https://4.bp.blogspot.com/-yEgQAkSob2w/UA52_8DCAvI/AAAAAAAAH8Y/zVfpcpmnaUQ/s1600/Airplane_aeroplane_aircraft_jet_wallpapers+(74).jpg\n",
            "[%] File Downloaded !\n",
            "\n",
            "[%] Downloading Image #18 from https://4.bp.blogspot.com/-QjYhlaazQBo/UA5wWdPf5OI/AAAAAAAAHz8/yvTNr-Caz6s/s1600/Airplane_aeroplane_aircraft_jet_wallpapers+(52).jpg\n",
            "[%] File Downloaded !\n",
            "\n",
            "[%] Downloading Image #19 from http://1.bp.blogspot.com/-ycxn4gjusl4/UA5wa9Rx_oI/AAAAAAAAH0Y/VPMPEJ37DZo/s1600/Airplane_aeroplane_aircraft_jet_wallpapers+(5).jpg\n",
            "[%] File Downloaded !\n",
            "\n",
            "[%] Downloading Image #20 from http://3.bp.blogspot.com/-U3iMO9k1PW8/UA5yRcOuFNI/AAAAAAAAH30/BQV6JbjpTvI/s1600/Airplane_aeroplane_aircraft_jet_wallpapers+(19).jpg\n",
            "[%] File Downloaded !\n",
            "\n",
            "[%] Downloading Image #21 from https://2.bp.blogspot.com/-DAwjSB3dzdY/UA5wrn0VLTI/AAAAAAAAH2I/XijjYA5AQQc/s1600/Airplane_aeroplane_aircraft_jet_wallpapers+(53).jpg\n",
            "[%] File Downloaded !\n",
            "\n",
            "[%] Downloading Image #22 from http://2.bp.blogspot.com/-KlzmzVV0TXw/UA51XbQXEyI/AAAAAAAAH7E/pENF99DGzvM/s1600/Airplane_aeroplane_aircraft_jet_wallpapers+(2).jpg\n",
            "[%] File Downloaded !\n",
            "\n",
            "[%] Downloading Image #23 from https://3.bp.blogspot.com/-N4siWoGI7bI/UA529eZ9ExI/AAAAAAAAH8M/UaVBK0Q6aS8/s1600/Airplane_aeroplane_aircraft_jet_wallpapers+(73).jpg\n",
            "[%] File Downloaded !\n",
            "\n",
            "[%] Downloading Image #24 from https://1.bp.blogspot.com/-YUry5PDQu7I/UA5zYgx8iII/AAAAAAAAH40/a7JRS43jP0w/s1600/Airplane_aeroplane_aircraft_jet_wallpapers%2B(39).jpg\n",
            "[%] File Downloaded !\n",
            "\n",
            "[%] Downloading Image #25 from https://1.bp.blogspot.com/-IKu3ZbWaO_o/UA5yJYTQlYI/AAAAAAAAH3s/mVCbRJytbC0/s1600/Airplane_aeroplane_aircraft_jet_wallpapers+(38).jpg\n",
            "[%] File Downloaded !\n",
            "\n",
            "[%] Downloading Image #26 from https://2.bp.blogspot.com/-SJvGaiuQkDc/UA5zpJRWeqI/AAAAAAAAH5E/Whxsvp00pLw/s1600/Airplane_aeroplane_aircraft_jet_wallpapers+(31).jpg\n",
            "[%] File Downloaded !\n",
            "\n",
            "[%] Downloading Image #27 from https://3.bp.blogspot.com/-_znOE1dCqkw/UA50Ou8YqQI/AAAAAAAAH5s/PS-e7Fz0F_g/s1600/Airplane_aeroplane_aircraft_jet_wallpapers+(17).jpg\n",
            "[%] File Downloaded !\n",
            "\n",
            "[%] Downloading Image #28 from http://1.bp.blogspot.com/--Y9AAGMZDDw/UA509H7R2zI/AAAAAAAAH6k/6CQS-5dlMIs/s1600/Airplane_aeroplane_aircraft_jet_wallpapers+(45).jpg\n",
            "[%] File Downloaded !\n",
            "\n",
            "[%] Downloading Image #29 from https://4.bp.blogspot.com/-I5Ttn15AV8A/UA50_G5YMnI/AAAAAAAAH6s/6P8tMJzIRHc/s1600/Airplane_aeroplane_aircraft_jet_wallpapers+(43).jpg\n",
            "[%] File Downloaded !\n",
            "\n",
            "[%] Downloading Image #30 from https://2.bp.blogspot.com/-2K2sUX7SIIY/UA5ztdcWqCI/AAAAAAAAH5U/l0pQ2UTEUn4/s1600/Airplane_aeroplane_aircraft_jet_wallpapers+(63).jpg\n",
            "[%] File Downloaded !\n",
            "\n",
            "\n",
            "\n",
            "[%] Done. Downloaded 30 images.\n",
            "===============================================\n",
            "\n",
            "Please show your support here\n",
            "https://www.buymeacoffee.com/gurugaurav\n",
            "\n",
            "===============================================\n",
            "\n",
            "time: 1.52 s (started: 2021-06-24 12:07:35 +00:00)\n"
          ],
          "name": "stdout"
        }
      ]
    },
    {
      "cell_type": "code",
      "metadata": {
        "colab": {
          "base_uri": "https://localhost:8080/"
        },
        "id": "f1rdJaiX6xXn",
        "outputId": "30d6824d-1dea-487a-872b-f422a8f2cdcf"
      },
      "source": [
        "from bing_image_downloader import downloader\n",
        "downloader.download(\"train\" , limit=30,output_dir='images',adult_filter_off=True)"
      ],
      "execution_count": null,
      "outputs": [
        {
          "output_type": "stream",
          "text": [
            "[%] Downloading Images to /content/images/train\n",
            "\n",
            "\n",
            "[!!]Indexing page: 1\n",
            "\n",
            "[%] Indexed 30 Images on Page 1.\n",
            "\n",
            "===============================================\n",
            "\n",
            "[%] Downloading Image #1 from https://lh3.googleusercontent.com/eZEYQjtvh4IZYXHsnJGaKFjY7D3G4Ti1V1Ae_e-vlNFrg0x4g6duxSmpiCpZR7vndLG8sbIaWu2UxNbWipIEt0dT=s1000\n",
            "[%] File Downloaded !\n",
            "\n",
            "[%] Downloading Image #2 from http://www.truenorthmark.com/blog/wp-content/uploads/2013/06/Choo-Choo.jpg\n",
            "[%] File Downloaded !\n",
            "\n",
            "[%] Downloading Image #3 from http://onlyinark.com/wp-content/uploads/2016/01/Excursion-Train.jpg\n",
            "[%] File Downloaded !\n",
            "\n",
            "[%] Downloading Image #4 from http://4.bp.blogspot.com/-YR442hceVwA/UqXTnwPFMLI/AAAAAAAAAfs/wZOiE7MNXMc/s1600/IMG_3010.JPG\n",
            "[%] File Downloaded !\n",
            "\n",
            "[%] Downloading Image #5 from https://usercontent1.hubstatic.com/7960378_f496.jpg\n",
            "[%] File Downloaded !\n",
            "\n",
            "[%] Downloading Image #6 from https://s22658.pcdn.co/wp-content/uploads/2018/07/trainchasing.jpg\n",
            "[%] File Downloaded !\n",
            "\n",
            "[%] Downloading Image #7 from https://i.pinimg.com/originals/21/73/b2/2173b28d62f6f3024aa923a4e5555589.jpg\n",
            "[%] File Downloaded !\n",
            "\n",
            "[%] Downloading Image #8 from http://trueamericanclassic.com/images/slide-16.jpg\n",
            "[%] File Downloaded !\n",
            "\n",
            "[%] Downloading Image #9 from http://3.bp.blogspot.com/_d8Ax3AKBzsM/S9TyVS2LnjI/AAAAAAAABX8/AQrftrTnm6o/s1600/train1.jpg\n",
            "[%] File Downloaded !\n",
            "\n",
            "[%] Downloading Image #10 from https://phoenixwolfj.com/wp-content/uploads/2020/02/website-bombardiertrain.jpg\n",
            "[%] File Downloaded !\n",
            "\n",
            "[%] Downloading Image #11 from https://i.pinimg.com/originals/18/ae/1c/18ae1c39094ac55bcf3fee5c9a0cf469.jpg\n",
            "[%] File Downloaded !\n",
            "\n",
            "[%] Downloading Image #12 from http://3.bp.blogspot.com/_-gnhHvSipxA/TPDBdWy4dyI/AAAAAAAABOo/AQAYIS4UwBg/s1600/777+unstoppable.jpg\n",
            "[%] File Downloaded !\n",
            "\n",
            "[%] Downloading Image #13 from http://i.ytimg.com/vi/sui8cwu9fHs/maxresdefault.jpg\n",
            "[%] File Downloaded !\n",
            "\n",
            "[%] Downloading Image #14 from https://i.ytimg.com/vi/FJlql77V-Ns/maxresdefault.jpg\n",
            "[%] File Downloaded !\n",
            "\n",
            "[%] Downloading Image #15 from http://www.highlandernews.org/wp-content/uploads/2015/11/ops.train_.calhigh.jpg\n",
            "[%] File Downloaded !\n",
            "\n",
            "[%] Downloading Image #16 from https://tsgmultimedia.com/wp-content/uploads/2013/12/HO_JPBX_MP36PH_925_fireman.jpg\n",
            "[%] File Downloaded !\n",
            "\n",
            "[%] Downloading Image #17 from https://s22658.pcdn.co/wp-content/uploads/2013/07/mount-rainier-railroad.jpg\n",
            "[%] File Downloaded !\n",
            "\n",
            "[%] Downloading Image #18 from https://fatcatwebproductions.com/ThePaper_2014/md-thenews/sites/default/files/styles/large/public/field/image/train.jpg?itok=XggaCAag\n",
            "[%] File Downloaded !\n",
            "\n",
            "[%] Downloading Image #19 from http://www.torontorealtyblog.com/wp-content/uploads/2016/05/Train.jpg\n",
            "[%] File Downloaded !\n",
            "\n",
            "[%] Downloading Image #20 from https://i.ytimg.com/vi/beHaWCuy7Do/maxresdefault.jpg\n",
            "[%] File Downloaded !\n",
            "\n",
            "[%] Downloading Image #21 from https://www.freshtrackscanada.com/data/images/region-interest/via-rail-train-hudson-bay.jpg\n",
            "[%] File Downloaded !\n",
            "\n",
            "[%] Downloading Image #22 from https://i0.wp.com/www.rumblerum.com/wp-content/uploads/2018/04/train-14.jpg?fit=997%2C596&amp;ssl=1\n",
            "[%] File Downloaded !\n",
            "\n",
            "[%] Downloading Image #23 from https://cdn.newsapi.com.au/image/v1/6d8db3aba527832ddc1b88396df9a63c?width=1024\n",
            "[%] File Downloaded !\n",
            "\n",
            "[%] Downloading Image #24 from http://files.sysers.com/cp/upload/ccfj_eventrentalsystems/editor/images/trackless%20train%20rentals%20in%20clovis,%20ca.png\n",
            "[%] File Downloaded !\n",
            "\n",
            "[%] Downloading Image #25 from http://2.bp.blogspot.com/-mBBISy4ogzw/UqXMUGVLUII/AAAAAAAAAfY/mHutL7BtHkI/s1600/IMG_2980.JPG\n",
            "[%] File Downloaded !\n",
            "\n",
            "[%] Downloading Image #26 from http://s1.hubimg.com/u/7346140_f496.jpg\n",
            "[%] File Downloaded !\n",
            "\n",
            "[%] Downloading Image #27 from http://3.bp.blogspot.com/_d8Ax3AKBzsM/S9TyBUcTTzI/AAAAAAAABXs/A2mSj7PIhIg/s1600/train6.jpg\n",
            "[%] File Downloaded !\n",
            "\n",
            "[%] Downloading Image #28 from https://web4.hobbylinc.com/gr/rap/rap220540.jpg\n",
            "[%] File Downloaded !\n",
            "\n",
            "[%] Downloading Image #29 from https://true-romania.tours/wp-content/uploads/2017/05/steam-train.jpg\n",
            "[%] File Downloaded !\n",
            "\n",
            "[%] Downloading Image #30 from https://thumbs.dreamstime.com/z/old-train-copenhagen-denamrk-every-summer-steam-driving-true-both-turists-danish-familys-139388841.jpg\n",
            "[%] File Downloaded !\n",
            "\n",
            "\n",
            "\n",
            "[%] Done. Downloaded 30 images.\n",
            "===============================================\n",
            "\n",
            "Please show your support here\n",
            "https://www.buymeacoffee.com/gurugaurav\n",
            "\n",
            "===============================================\n",
            "\n",
            "time: 11.6 s (started: 2021-06-24 12:07:59 +00:00)\n"
          ],
          "name": "stdout"
        }
      ]
    },
    {
      "cell_type": "code",
      "metadata": {
        "colab": {
          "base_uri": "https://localhost:8080/"
        },
        "id": "Z_GoQhQW63Xg",
        "outputId": "81ef8203-d7a3-4f78-abcf-7de56bec1211"
      },
      "source": [
        "#preprocessing\n",
        "import os\n",
        "import matplotlib.pyplot as plt\n",
        "import numpy as np\n",
        "from skimage.io import imread\n",
        "from skimage.transform import resize\n",
        "\n",
        "target = []\n",
        "images = []\n",
        "flat_data = []\n",
        "\n",
        "DATADIR = '/content/images'\n",
        "CATEGORIES = ['aeroplane','train']\n",
        "\n",
        "for category in CATEGORIES:\n",
        "    class_num  = CATEGORIES.index(category) #Label encoding the values\n",
        "    path = os.path.join(DATADIR,category)  #Create path to use all the images\n",
        "    for img in os.listdir(path):\n",
        "        img_array = imread(os.path.join(path,img))\n",
        "        #print(img_array.shape)\n",
        "        #plt.imshow(img_array)\n",
        "        img_resized = resize(img_array,(150,150,3))\n",
        "        flat_data.append(img_resized.flatten())\n",
        "        images.append(img_resized)\n",
        "        target.append(class_num)\n",
        "        \n",
        "flat_data = np.array(flat_data)\n",
        "target = np.array(target)\n",
        "images = np.array(images)"
      ],
      "execution_count": null,
      "outputs": [
        {
          "output_type": "stream",
          "text": [
            "time: 21.2 s (started: 2021-06-24 13:45:36 +00:00)\n"
          ],
          "name": "stdout"
        }
      ]
    },
    {
      "cell_type": "code",
      "metadata": {
        "colab": {
          "base_uri": "https://localhost:8080/"
        },
        "id": "DeJwYVZ57C7k",
        "outputId": "6167c7b6-ea24-419b-c94f-7e31d3d32814"
      },
      "source": [
        "target"
      ],
      "execution_count": null,
      "outputs": [
        {
          "output_type": "execute_result",
          "data": {
            "text/plain": [
              "array([0, 0, 0, 0, 0, 0, 0, 0, 0, 0, 0, 0, 0, 0, 0, 0, 0, 0, 0, 0, 0, 0,\n",
              "       0, 0, 0, 0, 0, 0, 0, 0, 1, 1, 1, 1, 1, 1, 1, 1, 1, 1, 1, 1, 1, 1,\n",
              "       1, 1, 1, 1, 1, 1, 1, 1, 1, 1, 1, 1, 1, 1, 1, 1])"
            ]
          },
          "metadata": {
            "tags": []
          },
          "execution_count": 47
        },
        {
          "output_type": "stream",
          "text": [
            "time: 14.6 ms (started: 2021-06-24 13:46:00 +00:00)\n"
          ],
          "name": "stdout"
        }
      ]
    },
    {
      "cell_type": "code",
      "metadata": {
        "colab": {
          "base_uri": "https://localhost:8080/"
        },
        "id": "JTppk40c7KFt",
        "outputId": "cc577071-8300-4bb2-d63e-649856d0eb02"
      },
      "source": [
        "unique,count = np.unique(target,return_counts=True)"
      ],
      "execution_count": null,
      "outputs": [
        {
          "output_type": "stream",
          "text": [
            "time: 7.69 ms (started: 2021-06-24 13:46:05 +00:00)\n"
          ],
          "name": "stdout"
        }
      ]
    },
    {
      "cell_type": "code",
      "metadata": {
        "colab": {
          "base_uri": "https://localhost:8080/",
          "height": 298
        },
        "id": "5ZaXUUnA7N5F",
        "outputId": "9269c512-1016-4f91-f756-b504462aa21f"
      },
      "source": [
        "plt.bar(CATEGORIES,count)"
      ],
      "execution_count": null,
      "outputs": [
        {
          "output_type": "execute_result",
          "data": {
            "text/plain": [
              "<BarContainer object of 2 artists>"
            ]
          },
          "metadata": {
            "tags": []
          },
          "execution_count": 49
        },
        {
          "output_type": "display_data",
          "data": {
            "image/png": "[encoded data removed]",
            "text/plain": [
              "<Figure size 432x288 with 1 Axes>"
            ]
          },
          "metadata": {
            "tags": [],
            "needs_background": "light"
          }
        },
        {
          "output_type": "stream",
          "text": [
            "time: 218 ms (started: 2021-06-24 13:46:10 +00:00)\n"
          ],
          "name": "stdout"
        }
      ]
    },
    {
      "cell_type": "code",
      "metadata": {
        "colab": {
          "base_uri": "https://localhost:8080/"
        },
        "id": "GJZp5akO7QYl",
        "outputId": "85c3c7c9-3f33-492f-d96e-3cc96039b388"
      },
      "source": [
        "#Split data into training and testing\n",
        "\n",
        "from sklearn.model_selection import train_test_split\n",
        "x_train,x_test,y_train,y_test = train_test_split(flat_data,target,test_size=0.3,random_state=109)"
      ],
      "execution_count": null,
      "outputs": [
        {
          "output_type": "stream",
          "text": [
            "time: 51.8 ms (started: 2021-06-24 13:46:16 +00:00)\n"
          ],
          "name": "stdout"
        }
      ]
    },
    {
      "cell_type": "code",
      "metadata": {
        "colab": {
          "base_uri": "https://localhost:8080/"
        },
        "id": "AqOtHCBS7UTu",
        "outputId": "19a34b8b-f08a-4f63-f731-5660c1e70190"
      },
      "source": [
        "from sklearn.naive_bayes import GaussianNB\n",
        "from sklearn.metrics import accuracy_score,confusion_matrix\n",
        "#Create a Gaussian Classifier\n",
        "gnb = GaussianNB()\n",
        "\n",
        "#Train the model using the training sets\n",
        "gnb.fit(x_train, y_train)\n",
        "\n",
        "#Predict the response for test dataset\n",
        "y_pred = gnb.predict(x_test)\n",
        "\n",
        "accuracy_score(y_test, y_pred)"
      ],
      "execution_count": null,
      "outputs": [
        {
          "output_type": "execute_result",
          "data": {
            "text/plain": [
              "0.8333333333333334"
            ]
          },
          "metadata": {
            "tags": []
          },
          "execution_count": 51
        },
        {
          "output_type": "stream",
          "text": [
            "time: 538 ms (started: 2021-06-24 13:46:21 +00:00)\n"
          ],
          "name": "stdout"
        }
      ]
    },
    {
      "cell_type": "code",
      "metadata": {
        "colab": {
          "base_uri": "https://localhost:8080/"
        },
        "id": "9b6GCRy07Yxq",
        "outputId": "56a3eae4-4fdf-4574-fe53-dee256785f6f"
      },
      "source": [
        "y_pred"
      ],
      "execution_count": null,
      "outputs": [
        {
          "output_type": "execute_result",
          "data": {
            "text/plain": [
              "array([1, 0, 0, 1, 0, 1, 1, 0, 0, 1, 1, 1, 1, 1, 1, 0, 0, 0])"
            ]
          },
          "metadata": {
            "tags": []
          },
          "execution_count": 52
        },
        {
          "output_type": "stream",
          "text": [
            "time: 10.7 ms (started: 2021-06-24 13:46:25 +00:00)\n"
          ],
          "name": "stdout"
        }
      ]
    },
    {
      "cell_type": "code",
      "metadata": {
        "colab": {
          "base_uri": "https://localhost:8080/"
        },
        "id": "T0YiTaua77Li",
        "outputId": "350e49ee-2f0d-400b-8bab-c90051409b02"
      },
      "source": [
        "y_test"
      ],
      "execution_count": null,
      "outputs": [
        {
          "output_type": "execute_result",
          "data": {
            "text/plain": [
              "array([0, 0, 0, 1, 0, 0, 1, 0, 0, 1, 1, 1, 1, 0, 1, 0, 0, 0])"
            ]
          },
          "metadata": {
            "tags": []
          },
          "execution_count": 53
        },
        {
          "output_type": "stream",
          "text": [
            "time: 9.63 ms (started: 2021-06-24 13:46:30 +00:00)\n"
          ],
          "name": "stdout"
        }
      ]
    },
    {
      "cell_type": "code",
      "metadata": {
        "colab": {
          "base_uri": "https://localhost:8080/"
        },
        "id": "Xvhw2NFP7-1K",
        "outputId": "ce59cea2-1661-4a66-8613-86d9955d1077"
      },
      "source": [
        "from sklearn.metrics import accuracy_score,confusion_matrix"
      ],
      "execution_count": null,
      "outputs": [
        {
          "output_type": "stream",
          "text": [
            "time: 4.24 ms (started: 2021-06-24 13:46:33 +00:00)\n"
          ],
          "name": "stdout"
        }
      ]
    },
    {
      "cell_type": "code",
      "metadata": {
        "colab": {
          "base_uri": "https://localhost:8080/"
        },
        "id": "9ELHgcpH8DzU",
        "outputId": "246e4ffc-0358-4b31-d7aa-01d1931854f4"
      },
      "source": [
        "accuracy_score(y_pred,y_test)"
      ],
      "execution_count": null,
      "outputs": [
        {
          "output_type": "execute_result",
          "data": {
            "text/plain": [
              "0.8333333333333334"
            ]
          },
          "metadata": {
            "tags": []
          },
          "execution_count": 55
        },
        {
          "output_type": "stream",
          "text": [
            "time: 15.6 ms (started: 2021-06-24 13:46:37 +00:00)\n"
          ],
          "name": "stdout"
        }
      ]
    },
    {
      "cell_type": "code",
      "metadata": {
        "colab": {
          "base_uri": "https://localhost:8080/"
        },
        "id": "0BUqJgVD8H6r",
        "outputId": "0e1309d9-1db3-487b-cf89-6b6892cae5eb"
      },
      "source": [
        "confusion_matrix(y_pred,y_test)"
      ],
      "execution_count": null,
      "outputs": [
        {
          "output_type": "execute_result",
          "data": {
            "text/plain": [
              "array([[8, 0],\n",
              "       [3, 7]])"
            ]
          },
          "metadata": {
            "tags": []
          },
          "execution_count": 56
        },
        {
          "output_type": "stream",
          "text": [
            "time: 14.2 ms (started: 2021-06-24 13:46:39 +00:00)\n"
          ],
          "name": "stdout"
        }
      ]
    },
    {
      "cell_type": "code",
      "metadata": {
        "colab": {
          "base_uri": "https://localhost:8080/"
        },
        "id": "xpZvQImA8NTY",
        "outputId": "a90c8eef-ed21-479b-d570-703cdbce6995"
      },
      "source": [
        "#Save the model using pickle\n",
        "import pickle\n",
        "pickle.dump(gnb,open('img_model.p','wb'))"
      ],
      "execution_count": null,
      "outputs": [
        {
          "output_type": "stream",
          "text": [
            "time: 40.7 ms (started: 2021-06-24 13:46:45 +00:00)\n"
          ],
          "name": "stdout"
        }
      ]
    },
    {
      "cell_type": "code",
      "metadata": {
        "colab": {
          "base_uri": "https://localhost:8080/"
        },
        "id": "FOLqvi299k7C",
        "outputId": "089dd287-c245-423a-e244-40f6ff4b61b4"
      },
      "source": [
        "model = pickle.load(open('img_model.p','rb'))"
      ],
      "execution_count": null,
      "outputs": [
        {
          "output_type": "stream",
          "text": [
            "time: 4.37 ms (started: 2021-06-24 13:46:48 +00:00)\n"
          ],
          "name": "stdout"
        }
      ]
    },
    {
      "cell_type": "code",
      "metadata": {
        "colab": {
          "base_uri": "https://localhost:8080/",
          "height": 336
        },
        "id": "NFMzpV5g-KH8",
        "outputId": "5a30778e-baf7-4d56-af8f-4df73700ffde"
      },
      "source": [
        "#Testing a brand new image\n",
        "\n",
        "flat_data = []\n",
        "url = input('Enter your url')\n",
        "img = imread(url)\n",
        "img_resized = resize(img,(150,150,3))\n",
        "flat_data.append(img_resized.flatten())\n",
        "flat_data = np.array(flat_data)\n",
        "print(img.shape)\n",
        "plt.imshow(img_resized)\n",
        "y_out = model.predict(flat_data)\n",
        "y_out = CATEGORIES[y_out[0]]\n",
        "print(f' Predicted output: {y_out}')"
      ],
      "execution_count": null,
      "outputs": [
        {
          "output_type": "stream",
          "text": [
            "Enter your urlhttps://encrypted-tbn0.gstatic.com/images?q=tbn:ANd9GcROYA056Ir3A0sxx-5cSnDUNb_XDUr7L3imVw&usqp=CAU\n",
            "(159, 318, 3)\n",
            " Predicted output: train\n"
          ],
          "name": "stdout"
        },
        {
          "output_type": "display_data",
          "data": {
            "image/png": "[encoded data removed]",
            "text/plain": [
              "<Figure size 432x288 with 1 Axes>"
            ]
          },
          "metadata": {
            "tags": [],
            "needs_background": "light"
          }
        },
        {
          "output_type": "stream",
          "text": [
            "time: 4.4 s (started: 2021-06-24 12:53:02 +00:00)\n"
          ],
          "name": "stdout"
        }
      ]
    },
    {
      "cell_type": "code",
      "metadata": {
        "id": "OOdepE1jO1go"
      },
      "source": [
        ""
      ],
      "execution_count": null,
      "outputs": []
    }
  ]
}